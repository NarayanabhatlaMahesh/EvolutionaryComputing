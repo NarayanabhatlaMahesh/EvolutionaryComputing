{
 "cells": [
  {
   "cell_type": "code",
   "execution_count": 5,
   "id": "e807b607-0bc6-4d50-a267-249336420e89",
   "metadata": {},
   "outputs": [],
   "source": [
    "chromozomes = [i for i in range(1,100000000)]"
   ]
  },
  {
   "cell_type": "code",
   "execution_count": 4,
   "id": "7dc72bb6-288b-4f72-a81d-69aab2e5c028",
   "metadata": {},
   "outputs": [],
   "source": [
    "chromozome_set=5"
   ]
  },
  {
   "cell_type": "code",
   "execution_count": 7,
   "id": "31fe2ce7-c177-4ded-a69e-8e707fb0c58e",
   "metadata": {},
   "outputs": [],
   "source": [
    "gene=[]"
   ]
  },
  {
   "cell_type": "code",
   "execution_count": 15,
   "id": "4eca390c-816a-484c-9d1e-0e0ae14f77ec",
   "metadata": {},
   "outputs": [
    {
     "name": "stderr",
     "output_type": "stream",
     "text": [
      "\n",
      "KeyboardInterrupt\n",
      "\n"
     ]
    }
   ],
   "source": [
    "for i in range(1,len(chromozomes)):\n",
    "    gene.append(chromozomes[i:i+chromozome_set])"
   ]
  },
  {
   "cell_type": "code",
   "execution_count": null,
   "id": "79d44bc2-758d-40f5-8113-6fb34a4a59b1",
   "metadata": {},
   "outputs": [],
   "source": [
    "device = torch.device(\"cuda\" if torch.cuda.is_available() else \"cpu\")\n",
    "chromozomes_tensor = torch.tensor(chromozomes, device=device)\n",
    "\n",
    "# Generate slices on GPU\n",
    "for i in range(1, len(chromozomes)):\n",
    "    gene.append(chromozomes_tensor[i:i+chromozome_set])"
   ]
  },
  {
   "cell_type": "code",
   "execution_count": null,
   "id": "238ad4f5-ee78-484e-a03d-02b7387e3dca",
   "metadata": {},
   "outputs": [],
   "source": [
    "genes_combinations=[]"
   ]
  },
  {
   "cell_type": "code",
   "execution_count": null,
   "id": "ac8778b4-1a70-4d54-87d5-a6cfce9bbba7",
   "metadata": {},
   "outputs": [],
   "source": [
    "len(gene)"
   ]
  },
  {
   "cell_type": "code",
   "execution_count": null,
   "id": "3db7ed13-fb22-40a9-8eb2-71563965b184",
   "metadata": {},
   "outputs": [],
   "source": [
    "for i in gene:\n",
    "    index = 0\n",
    "    for j in i:\n",
    "        genes_combinations.append(i[index]+i[:index])\n",
    "        index+=1"
   ]
  },
  {
   "cell_type": "code",
   "execution_count": null,
   "id": "2ef43d4e-9a84-4d48-b8ea-c0eb4dcda867",
   "metadata": {},
   "outputs": [],
   "source": [
    "import torch\n",
    "\n",
    "# Example gene data (list of strings)\n",
    "\n",
    "# Move data to GPU\n",
    "device = torch.device(\"cuda\" if torch.cuda.is_available() else \"cpu\")\n",
    "print('device',device)\n",
    "genes_combinations = []\n",
    "print('before loop')\n",
    "for i in gene:\n",
    "    # Convert string to tensor of character codes\n",
    "    chars = torch.tensor([ord(c) for c in i], device=device)\n",
    "    print(i)\n",
    "    for idx in range(len(chars)):\n",
    "        print(idx)\n",
    "        # Slice using GPU tensors\n",
    "        comb = torch.cat((chars[idx:idx+1], chars[:idx]))\n",
    "        # Convert back to string (on CPU)\n",
    "        genes_combinations.append(\"\".join([chr(c.item()) for c in comb.cpu()]))\n",
    "\n",
    "print(genes_combinations)\n"
   ]
  }
 ],
 "metadata": {
  "kernelspec": {
   "display_name": "Python 3 (ipykernel)",
   "language": "python",
   "name": "python3"
  },
  "language_info": {
   "codemirror_mode": {
    "name": "ipython",
    "version": 3
   },
   "file_extension": ".py",
   "mimetype": "text/x-python",
   "name": "python",
   "nbconvert_exporter": "python",
   "pygments_lexer": "ipython3",
   "version": "3.11.8"
  }
 },
 "nbformat": 4,
 "nbformat_minor": 5
}
