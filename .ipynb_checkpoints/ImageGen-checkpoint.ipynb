{
 "cells": [
  {
   "cell_type": "code",
   "execution_count": null,
   "id": "16499966-5e87-45cd-b5a1-344f593d8e22",
   "metadata": {},
   "outputs": [],
   "source": [
    "pip install diffusers transformers accelerate scipy safetensors\n"
   ]
  },
  {
   "cell_type": "code",
   "execution_count": null,
   "id": "cc9c73e2-69a4-4d6a-aab2-7af9161b5af2",
   "metadata": {},
   "outputs": [],
   "source": [
    "import torch\n",
    "print(torch.get_num_threads())\n",
    "torch.set_num_threads(12)\n",
    "print(torch.get_num_threads())"
   ]
  },
  {
   "cell_type": "code",
   "execution_count": null,
   "id": "9032dbdf-41dc-4832-b2b9-b2c7aaae35b3",
   "metadata": {},
   "outputs": [],
   "source": [
    "from diffusers import StableDiffusionPipeline, EulerDiscreteScheduler\n",
    "import torch\n",
    "\n",
    "model_id = \"stabilityai/stable-diffusion-2\"\n",
    "\n",
    "# Use the Euler scheduler here instead\n",
    "scheduler = EulerDiscreteScheduler.from_pretrained(model_id, subfolder=\"scheduler\")\n",
    "pipe = StableDiffusionPipeline.from_pretrained(model_id, scheduler=scheduler, torch_dtype=torch.float16)\n",
    "pipe = pipe.to(\"cuda\")\n",
    "\n",
    "prompt = \"a photo of an astronaut riding a horse on mars\"\n",
    "image = pipe(prompt).images[0]\n",
    "    \n",
    "image.save(\"astronaut_rides_horse.png\")\n"
   ]
  }
 ],
 "metadata": {
  "kernelspec": {
   "display_name": "evolution",
   "language": "python",
   "name": "evolution"
  },
  "language_info": {
   "codemirror_mode": {
    "name": "ipython",
    "version": 3
   },
   "file_extension": ".py",
   "mimetype": "text/x-python",
   "name": "python",
   "nbconvert_exporter": "python",
   "pygments_lexer": "ipython3",
   "version": "3.8.10"
  }
 },
 "nbformat": 4,
 "nbformat_minor": 5
}
